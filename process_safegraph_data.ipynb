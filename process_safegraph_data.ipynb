{
 "cells": [
  {
   "cell_type": "code",
   "execution_count": null,
   "metadata": {
    "pycharm": {
     "is_executing": true
    }
   },
   "outputs": [
    {
     "name": "stdout",
     "output_type": "stream",
     "text": [
      "Setting numpy cores to 1\n",
      "Running code on Deep; at Stanford=False\n",
      "In constants.py, ALL_WEEKLY_STRINGS: ['2018-12-31', '2019-01-07', '2019-01-14', '2019-01-21', '2019-01-28', '2019-02-04', '2019-02-11', '2019-02-18', '2019-02-25', '2019-03-04', '2019-03-11', '2019-03-18', '2019-03-25', '2019-04-01', '2019-04-08', '2019-04-15', '2019-04-22', '2019-04-29', '2019-05-06', '2019-05-13', '2019-05-20', '2019-05-27', '2019-06-03', '2019-06-10', '2019-06-17', '2019-06-24', '2019-07-01', '2019-07-08', '2019-07-15', '2019-07-22', '2019-07-29', '2019-08-05', '2019-08-12', '2019-08-19', '2019-08-26', '2019-09-02', '2019-09-09', '2019-09-16', '2019-09-23', '2019-09-30', '2019-10-07', '2019-10-14', '2019-10-21', '2019-10-28', '2019-11-04', '2019-11-11', '2019-11-18', '2019-11-25', '2019-12-02', '2019-12-09', '2019-12-16', '2019-12-23', '2019-12-30', '2020-01-06', '2020-01-13', '2020-01-20', '2020-01-27', '2020-02-03', '2020-02-10', '2020-02-17', '2020-02-24', '2020-03-02', '2020-03-09', '2020-03-16', '2020-03-23', '2020-03-30', '2020-04-06', '2020-04-13', '2020-04-20', '2020-04-27', '2020-05-04', '2020-05-11', '2020-05-18', '2020-05-25', '2020-06-01', '2020-06-08']\n",
      "file in self.gdb_files: ACS_2017_5YR_BG.gdb\n",
      "Layers and tabels:\n",
      " ['X00_COUNTS', 'X01_AGE_AND_SEX', 'X02_RACE', 'X03_HISPANIC_OR_LATINO_ORIGIN', 'X07_MIGRATION', 'X08_COMMUTING', 'X09_CHILDREN_HOUSEHOLD_RELATIONSHIP', 'X11_HOUSEHOLD_FAMILY_SUBFAMILIES', 'X12_MARITAL_STATUS_AND_HISTORY', 'X14_SCHOOL_ENROLLMENT', 'X15_EDUCATIONAL_ATTAINMENT', 'X16_LANGUAGE_SPOKEN_AT_HOME', 'X17_POVERTY', 'X19_INCOME', 'X20_EARNINGS', 'X21_VETERAN_STATUS', 'X22_FOOD_STAMPS', 'X23_EMPLOYMENT_STATUS', 'X24_INDUSTRY_OCCUPATION', 'X25_HOUSING_CHARACTERISTICS', 'X27_HEALTH_INSURANCE', 'X99_IMPUTATION', 'BG_METADATA_2017', 'ACS_2017_5YR_BG']\n",
      "Start to read: /media/gpu/easystore/covid_mobility_results/new_census_data/ACS_2017_5YR_BG.gdb\n",
      "May need 10 minutes...\n",
      "geographic_data.columns: Index(['STATEFP', 'COUNTYFP', 'TRACTCE', 'BLKGRPCE', 'GEOID', 'NAMELSAD',\n",
      "       'MTFCC', 'FUNCSTAT', 'ALAND', 'AWATER', 'INTPTLAT', 'INTPTLON',\n",
      "       'Shape_Length', 'Shape_Area', 'GEOID_Data', 'geometry'],\n",
      "      dtype='object')\n",
      "Merge attribute tabels to polygons...\n"
     ]
    },
    {
     "name": "stderr",
     "output_type": "stream",
     "text": [
      "ERROR:fbprophet:Importing plotly failed. Interactive plots will not work.\n"
     ]
    }
   ],
   "source": [
    "%load_ext autoreload\n",
    "%autoreload 2\n",
    "from covid_constants_and_util import *\n",
    "import pandas as pd\n",
    "import os\n",
    "import matplotlib.pyplot as plt\n",
    "import statsmodels.api as sm\n",
    "import json\n",
    "import datetime\n",
    "import copy\n",
    "import geopandas as gpd\n",
    "import dask\n",
    "import helper_methods_for_aggregate_data_analysis as helper\n",
    "import h5py\n",
    "import re\n",
    "\n",
    "JUST_TESTING = True\n",
    "\n",
    "print(\"OKAY\")"
   ]
  },
  {
   "cell_type": "code",
   "execution_count": 26,
   "metadata": {},
   "outputs": [],
   "source": [
    "# make sure we don't append onto existing files [for H5 files]. \n",
    "assert not os.path.exists(os.path.join(helper.ANNOTATED_H5_DATA_DIR, helper.CHUNK_FILENAME))"
   ]
  },
  {
   "cell_type": "code",
   "execution_count": null,
   "metadata": {},
   "outputs": [],
   "source": [
    "# Write out dataframe of Census data for use in subsequent analysis. \n",
    "# helper.write_out_acs_5_year_data()"
   ]
  },
  {
   "cell_type": "code",
   "execution_count": 24,
   "metadata": {
    "scrolled": true
   },
   "outputs": [
    {
     "name": "stdout",
     "output_type": "stream",
     "text": [
      "helper.ALL_WEEKLY_STRINGS: ['2018-12-31', '2019-01-07', '2019-01-14', '2019-01-21', '2019-01-28', '2019-02-04', '2019-02-11', '2019-02-18', '2019-02-25', '2019-03-04', '2019-03-11', '2019-03-18', '2019-03-25', '2019-04-01', '2019-04-08', '2019-04-15', '2019-04-22', '2019-04-29', '2019-05-06', '2019-05-13', '2019-05-20', '2019-05-27', '2019-06-03', '2019-06-10', '2019-06-17', '2019-06-24', '2019-07-01', '2019-07-08', '2019-07-15', '2019-07-22', '2019-07-29', '2019-08-05', '2019-08-12', '2019-08-19', '2019-08-26', '2019-09-02', '2019-09-09', '2019-09-16', '2019-09-23', '2019-09-30', '2019-10-07', '2019-10-14', '2019-10-21', '2019-10-28', '2019-11-04', '2019-11-11', '2019-11-18', '2019-11-25', '2019-12-02', '2019-12-09', '2019-12-16', '2019-12-23', '2019-12-30', '2020-01-06', '2020-01-13', '2020-01-20', '2020-01-27', '2020-02-03', '2020-02-10', '2020-02-17', '2020-02-24', '2020-03-02', '2020-03-09', '2020-03-16', '2020-03-23', '2020-03-30', '2020-04-06', '2020-04-13', '2020-04-20', '2020-04-27', '2020-05-04', '2020-05-11', '2020-05-18', '2020-05-25', '2020-06-01', '2020-06-08']\n",
      "['/media/gpu/easystore/Safegraph/Weekly Places Patterns v2 (until 2020-06-15)/main-file/2018-12-31-weekly-patterns.csv.gz', '/media/gpu/easystore/Safegraph/Weekly Places Patterns v2 (until 2020-06-15)/main-file/2019-01-07-weekly-patterns.csv.gz', '/media/gpu/easystore/Safegraph/Weekly Places Patterns v2 (until 2020-06-15)/main-file/2019-01-14-weekly-patterns.csv.gz', '/media/gpu/easystore/Safegraph/Weekly Places Patterns v2 (until 2020-06-15)/main-file/2019-01-21-weekly-patterns.csv.gz', '/media/gpu/easystore/Safegraph/Weekly Places Patterns v2 (until 2020-06-15)/main-file/2019-01-28-weekly-patterns.csv.gz', '/media/gpu/easystore/Safegraph/Weekly Places Patterns v2 (until 2020-06-15)/main-file/2019-02-04-weekly-patterns.csv.gz', '/media/gpu/easystore/Safegraph/Weekly Places Patterns v2 (until 2020-06-15)/main-file/2019-02-11-weekly-patterns.csv.gz', '/media/gpu/easystore/Safegraph/Weekly Places Patterns v2 (until 2020-06-15)/main-file/2019-02-25-weekly-patterns.csv.gz', '/media/gpu/easystore/Safegraph/Weekly Places Patterns v2 (until 2020-06-15)/main-file/2019-03-04-weekly-patterns.csv.gz', '/media/gpu/easystore/Safegraph/Weekly Places Patterns v2 (until 2020-06-15)/main-file/2019-03-11-weekly-patterns.csv.gz', '/media/gpu/easystore/Safegraph/Weekly Places Patterns v2 (until 2020-06-15)/main-file/2019-03-18-weekly-patterns.csv.gz', '/media/gpu/easystore/Safegraph/Weekly Places Patterns v2 (until 2020-06-15)/main-file/2019-03-25-weekly-patterns.csv.gz', '/media/gpu/easystore/Safegraph/Weekly Places Patterns v2 (until 2020-06-15)/main-file/2019-04-01-weekly-patterns.csv.gz', '/media/gpu/easystore/Safegraph/Weekly Places Patterns v2 (until 2020-06-15)/main-file/2019-04-15-weekly-patterns.csv.gz', '/media/gpu/easystore/Safegraph/Weekly Places Patterns v2 (until 2020-06-15)/main-file/2019-04-22-weekly-patterns.csv.gz', '/media/gpu/easystore/Safegraph/Weekly Places Patterns v2 (until 2020-06-15)/main-file/2019-04-29-weekly-patterns.csv.gz', '/media/gpu/easystore/Safegraph/Weekly Places Patterns v2 (until 2020-06-15)/main-file/2019-05-06-weekly-patterns.csv.gz', '/media/gpu/easystore/Safegraph/Weekly Places Patterns v2 (until 2020-06-15)/main-file/2019-05-13-weekly-patterns.csv.gz', '/media/gpu/easystore/Safegraph/Weekly Places Patterns v2 (until 2020-06-15)/main-file/2019-05-20-weekly-patterns.csv.gz', '/media/gpu/easystore/Safegraph/Weekly Places Patterns v2 (until 2020-06-15)/main-file/2019-05-27-weekly-patterns.csv.gz', '/media/gpu/easystore/Safegraph/Weekly Places Patterns v2 (until 2020-06-15)/main-file/2019-06-03-weekly-patterns.csv.gz', '/media/gpu/easystore/Safegraph/Weekly Places Patterns v2 (until 2020-06-15)/main-file/2019-06-10-weekly-patterns.csv.gz', '/media/gpu/easystore/Safegraph/Weekly Places Patterns v2 (until 2020-06-15)/main-file/2019-06-17-weekly-patterns.csv.gz', '/media/gpu/easystore/Safegraph/Weekly Places Patterns v2 (until 2020-06-15)/main-file/2019-06-24-weekly-patterns.csv.gz', '/media/gpu/easystore/Safegraph/Weekly Places Patterns v2 (until 2020-06-15)/main-file/2019-10-07-weekly-patterns.csv.gz', '/media/gpu/easystore/Safegraph/Weekly Places Patterns v2 (until 2020-06-15)/main-file/2019-10-14-weekly-patterns.csv.gz', '/media/gpu/easystore/Safegraph/Weekly Places Patterns v2 (until 2020-06-15)/main-file/2019-10-21-weekly-patterns.csv.gz', '/media/gpu/easystore/Safegraph/Weekly Places Patterns v2 (until 2020-06-15)/main-file/2019-02-18-weekly-patterns.csv.gz', '/media/gpu/easystore/Safegraph/Weekly Places Patterns v2 (until 2020-06-15)/main-file/2019-04-08-weekly-patterns.csv.gz', '/media/gpu/easystore/Safegraph/Weekly Places Patterns v2 (until 2020-06-15)/main-file/2019-07-01-weekly-patterns.csv.gz', '/media/gpu/easystore/Safegraph/Weekly Places Patterns v2 (until 2020-06-15)/main-file/2019-09-30-weekly-patterns.csv.gz', '/media/gpu/easystore/Safegraph/Weekly Places Patterns v2 (until 2020-06-15)/main-file/2019-10-28-weekly-patterns.csv.gz', '/media/gpu/easystore/Safegraph/Weekly Places Patterns v2 (until 2020-06-15)/main-file/2019-12-30-weekly-patterns.csv.gz', '/media/gpu/easystore/Safegraph/Weekly Places Patterns v2 (until 2020-06-15)/main-file/2020-02-10-weekly-patterns.csv.gz', '/media/gpu/easystore/Safegraph/Weekly Places Patterns v2 (until 2020-06-15)/main-file/2020-05-04-weekly-patterns.csv.gz', '/media/gpu/easystore/Safegraph/Weekly Places Patterns v2 (until 2020-06-15)/main-file/2019-07-08-weekly-patterns.csv.gz', '/media/gpu/easystore/Safegraph/Weekly Places Patterns v2 (until 2020-06-15)/main-file/2019-07-15-weekly-patterns.csv.gz', '/media/gpu/easystore/Safegraph/Weekly Places Patterns v2 (until 2020-06-15)/main-file/2019-07-22-weekly-patterns.csv.gz', '/media/gpu/easystore/Safegraph/Weekly Places Patterns v2 (until 2020-06-15)/main-file/2019-07-29-weekly-patterns.csv.gz', '/media/gpu/easystore/Safegraph/Weekly Places Patterns v2 (until 2020-06-15)/main-file/2019-08-05-weekly-patterns.csv.gz', '/media/gpu/easystore/Safegraph/Weekly Places Patterns v2 (until 2020-06-15)/main-file/2019-08-12-weekly-patterns.csv.gz', '/media/gpu/easystore/Safegraph/Weekly Places Patterns v2 (until 2020-06-15)/main-file/2019-08-19-weekly-patterns.csv.gz', '/media/gpu/easystore/Safegraph/Weekly Places Patterns v2 (until 2020-06-15)/main-file/2019-08-26-weekly-patterns.csv.gz', '/media/gpu/easystore/Safegraph/Weekly Places Patterns v2 (until 2020-06-15)/main-file/2019-09-02-weekly-patterns.csv.gz', '/media/gpu/easystore/Safegraph/Weekly Places Patterns v2 (until 2020-06-15)/main-file/2019-09-09-weekly-patterns.csv.gz', '/media/gpu/easystore/Safegraph/Weekly Places Patterns v2 (until 2020-06-15)/main-file/2019-09-16-weekly-patterns.csv.gz', '/media/gpu/easystore/Safegraph/Weekly Places Patterns v2 (until 2020-06-15)/main-file/2019-09-23-weekly-patterns.csv.gz', '/media/gpu/easystore/Safegraph/Weekly Places Patterns v2 (until 2020-06-15)/main-file/2019-11-04-weekly-patterns.csv.gz', '/media/gpu/easystore/Safegraph/Weekly Places Patterns v2 (until 2020-06-15)/main-file/2019-11-11-weekly-patterns.csv.gz', '/media/gpu/easystore/Safegraph/Weekly Places Patterns v2 (until 2020-06-15)/main-file/2019-11-18-weekly-patterns.csv.gz', '/media/gpu/easystore/Safegraph/Weekly Places Patterns v2 (until 2020-06-15)/main-file/2019-11-25-weekly-patterns.csv.gz', '/media/gpu/easystore/Safegraph/Weekly Places Patterns v2 (until 2020-06-15)/main-file/2019-12-02-weekly-patterns.csv.gz', '/media/gpu/easystore/Safegraph/Weekly Places Patterns v2 (until 2020-06-15)/main-file/2019-12-09-weekly-patterns.csv.gz', '/media/gpu/easystore/Safegraph/Weekly Places Patterns v2 (until 2020-06-15)/main-file/2019-12-16-weekly-patterns.csv.gz', '/media/gpu/easystore/Safegraph/Weekly Places Patterns v2 (until 2020-06-15)/main-file/2019-12-23-weekly-patterns.csv.gz', '/media/gpu/easystore/Safegraph/Weekly Places Patterns v2 (until 2020-06-15)/main-file/2020-01-06-weekly-patterns.csv.gz', '/media/gpu/easystore/Safegraph/Weekly Places Patterns v2 (until 2020-06-15)/main-file/2020-01-13-weekly-patterns.csv.gz', '/media/gpu/easystore/Safegraph/Weekly Places Patterns v2 (until 2020-06-15)/main-file/2020-01-20-weekly-patterns.csv.gz', '/media/gpu/easystore/Safegraph/Weekly Places Patterns v2 (until 2020-06-15)/main-file/2020-01-27-weekly-patterns.csv.gz', '/media/gpu/easystore/Safegraph/Weekly Places Patterns v2 (until 2020-06-15)/main-file/2020-02-03-weekly-patterns.csv.gz', '/media/gpu/easystore/Safegraph/Weekly Places Patterns v2 (until 2020-06-15)/main-file/2020-02-17-weekly-patterns.csv.gz', '/media/gpu/easystore/Safegraph/Weekly Places Patterns v2 (until 2020-06-15)/main-file/2020-02-24-weekly-patterns.csv.gz', '/media/gpu/easystore/Safegraph/Weekly Places Patterns v2 (until 2020-06-15)/main-file/2020-03-02-weekly-patterns.csv.gz', '/media/gpu/easystore/Safegraph/Weekly Places Patterns v2 (until 2020-06-15)/main-file/2020-03-09-weekly-patterns.csv.gz', '/media/gpu/easystore/Safegraph/Weekly Places Patterns v2 (until 2020-06-15)/main-file/2020-03-16-weekly-patterns.csv.gz', '/media/gpu/easystore/Safegraph/Weekly Places Patterns v2 (until 2020-06-15)/main-file/2020-03-23-weekly-patterns.csv.gz', '/media/gpu/easystore/Safegraph/Weekly Places Patterns v2 (until 2020-06-15)/main-file/2020-03-30-weekly-patterns.csv.gz', '/media/gpu/easystore/Safegraph/Weekly Places Patterns v2 (until 2020-06-15)/main-file/2020-04-06-weekly-patterns.csv.gz', '/media/gpu/easystore/Safegraph/Weekly Places Patterns v2 (until 2020-06-15)/main-file/2020-04-13-weekly-patterns.csv.gz', '/media/gpu/easystore/Safegraph/Weekly Places Patterns v2 (until 2020-06-15)/main-file/2020-04-20-weekly-patterns.csv.gz', '/media/gpu/easystore/Safegraph/Weekly Places Patterns v2 (until 2020-06-15)/main-file/2020-04-27-weekly-patterns.csv.gz', '/media/gpu/easystore/Safegraph/Weekly Places Patterns v2 (until 2020-06-15)/main-file/2020-05-11-weekly-patterns.csv.gz', '/media/gpu/easystore/Safegraph/Weekly Places Patterns v2 (until 2020-06-15)/main-file/2020-05-18-weekly-patterns.csv.gz', '/media/gpu/easystore/Safegraph/Weekly Places Patterns v2 (until 2020-06-15)/main-file/2020-05-25-weekly-patterns.csv.gz', '/media/gpu/easystore/Safegraph/Weekly Places Patterns v2 (until 2020-06-15)/main-file/2020-06-01-weekly-patterns.csv.gz', '/media/gpu/easystore/Safegraph/Weekly Places Patterns v2 (until 2020-06-15)/main-file/2020-06-08-weekly-patterns.csv.gz']\n",
      "helper.ALL_WEEKLY_STRINGS: ['2018-12-31', '2019-01-07', '2019-01-14', '2019-01-21', '2019-01-28', '2019-02-04', '2019-02-11', '2019-02-18', '2019-02-25', '2019-03-04', '2019-03-11', '2019-03-18', '2019-03-25', '2019-04-01', '2019-04-08', '2019-04-15', '2019-04-22', '2019-04-29', '2019-05-06', '2019-05-13', '2019-05-20', '2019-05-27', '2019-06-03', '2019-06-10', '2019-06-17', '2019-06-24', '2019-07-01', '2019-07-08', '2019-07-15', '2019-07-22', '2019-07-29', '2019-08-05', '2019-08-12', '2019-08-19', '2019-08-26', '2019-09-02', '2019-09-09', '2019-09-16', '2019-09-23', '2019-09-30', '2019-10-07', '2019-10-14', '2019-10-21', '2019-10-28', '2019-11-04', '2019-11-11', '2019-11-18', '2019-11-25', '2019-12-02', '2019-12-09', '2019-12-16', '2019-12-23', '2019-12-30', '2020-01-06', '2020-01-13', '2020-01-20', '2020-01-27', '2020-02-03', '2020-02-10', '2020-02-17', '2020-02-24', '2020-03-02', '2020-03-09', '2020-03-16', '2020-03-23', '2020-03-30', '2020-04-06', '2020-04-13', '2020-04-20', '2020-04-27', '2020-05-04', '2020-05-11', '2020-05-18', '2020-05-25', '2020-06-01', '2020-06-08']\n",
      "helper.ALL_WEEKLY_STRINGS: ['2018-12-31', '2019-01-07', '2019-01-14', '2019-01-21', '2019-01-28', '2019-02-04', '2019-02-11', '2019-02-18', '2019-02-25', '2019-03-04', '2019-03-11', '2019-03-18', '2019-03-25', '2019-04-01', '2019-04-08', '2019-04-15', '2019-04-22', '2019-04-29', '2019-05-06', '2019-05-13', '2019-05-20', '2019-05-27', '2019-06-03', '2019-06-10', '2019-06-17', '2019-06-24', '2019-07-01', '2019-07-08', '2019-07-15', '2019-07-22', '2019-07-29', '2019-08-05', '2019-08-12', '2019-08-19', '2019-08-26', '2019-09-02', '2019-09-09', '2019-09-16', '2019-09-23', '2019-09-30', '2019-10-07', '2019-10-14', '2019-10-21', '2019-10-28', '2019-11-04', '2019-11-11', '2019-11-18', '2019-11-25', '2019-12-02', '2019-12-09', '2019-12-16', '2019-12-23', '2019-12-30', '2020-01-06', '2020-01-13', '2020-01-20', '2020-01-27', '2020-02-03', '2020-02-10', '2020-02-17', '2020-02-24', '2020-03-02', '2020-03-09', '2020-03-16', '2020-03-23', '2020-03-30', '2020-04-06', '2020-04-13', '2020-04-20', '2020-04-27', '2020-05-04', '2020-05-11', '2020-05-18', '2020-05-25', '2020-06-01', '2020-06-08']\n",
      "ALL_WEEKLY_STRINGS: ['2020-01-06', '2020-01-13', '2020-01-20', '2020-01-27', '2020-02-03', '2020-02-10', '2020-02-17', '2020-02-24', '2020-03-02', '2020-03-09', '2020-03-16', '2020-03-23', '2020-03-30', '2020-04-06', '2020-04-13', '2020-04-20', '2020-04-27', '2020-05-04', '2020-05-11', '2020-05-18', '2020-05-25', '2020-06-01', '2020-06-08']\n",
      "Loading all files from /media/gpu/easystore/covid_mobility_results/all_aggregate_data/monthly_patterns_data\n",
      "Number of files to load: 2\n"
     ]
    },
    {
     "ename": "ValueError",
     "evalue": "Usecols do not match columns, columns expected but not found: ['top_category', 'longitude', 'sub_category', 'polygon_wkt', 'latitude', 'naics_code', 'polygon_class']",
     "output_type": "error",
     "traceback": [
      "\u001B[0;31m---------------------------------------------------------------------------\u001B[0m",
      "\u001B[0;31mValueError\u001B[0m                                Traceback (most recent call last)",
      "\u001B[0;32m<ipython-input-24-619552e852c2>\u001B[0m in \u001B[0;36m<module>\u001B[0;34m\u001B[0m\n\u001B[1;32m     26\u001B[0m              (1, 2020),(2, 2020)][::-1]:\n\u001B[1;32m     27\u001B[0m     \u001B[0;31m# Note ::-1: we load most recent files first so we will take their places info if it is available.\u001B[0m\u001B[0;34m\u001B[0m\u001B[0;34m\u001B[0m\u001B[0;34m\u001B[0m\u001B[0m\n\u001B[0;32m---> 28\u001B[0;31m     \u001B[0mall_monthly_dfs\u001B[0m\u001B[0;34m.\u001B[0m\u001B[0mappend\u001B[0m\u001B[0;34m(\u001B[0m\u001B[0mhelper\u001B[0m\u001B[0;34m.\u001B[0m\u001B[0mload_patterns_data\u001B[0m\u001B[0;34m(\u001B[0m\u001B[0mmonth\u001B[0m\u001B[0;34m=\u001B[0m\u001B[0mmonth\u001B[0m\u001B[0;34m,\u001B[0m \u001B[0myear\u001B[0m\u001B[0;34m=\u001B[0m\u001B[0myear\u001B[0m\u001B[0;34m,\u001B[0m \u001B[0mjust_testing\u001B[0m\u001B[0;34m=\u001B[0m\u001B[0mJUST_TESTING\u001B[0m\u001B[0;34m)\u001B[0m\u001B[0;34m)\u001B[0m\u001B[0;34m\u001B[0m\u001B[0;34m\u001B[0m\u001B[0m\n\u001B[0m\u001B[1;32m     29\u001B[0m \u001B[0;34m\u001B[0m\u001B[0m\n\u001B[1;32m     30\u001B[0m \u001B[0;34m\u001B[0m\u001B[0m\n",
      "\u001B[0;32m/media/gpu/easystore/covid_mobility_results/python_code/helper_methods_for_aggregate_data_analysis.py\u001B[0m in \u001B[0;36mload_patterns_data\u001B[0;34m(month, year, week_string, extra_cols, just_testing)\u001B[0m\n\u001B[1;32m    267\u001B[0m                                                                             'bucketed_dwell_times'] +\n\u001B[1;32m    268\u001B[0m                                                                             \u001B[0mextra_cols\u001B[0m\u001B[0;34m,\u001B[0m\u001B[0;34m\u001B[0m\u001B[0;34m\u001B[0m\u001B[0m\n\u001B[0;32m--> 269\u001B[0;31m                                                                             dtype={'naics_code': 'float64'})\n\u001B[0m\u001B[1;32m    270\u001B[0m         \u001B[0mprint\u001B[0m\u001B[0;34m(\u001B[0m\u001B[0;34m\"Fraction %2.3f of NAICS codes are missing\"\u001B[0m \u001B[0;34m%\u001B[0m \u001B[0mpd\u001B[0m\u001B[0;34m.\u001B[0m\u001B[0misnull\u001B[0m\u001B[0;34m(\u001B[0m\u001B[0mx\u001B[0m\u001B[0;34m[\u001B[0m\u001B[0;34m'naics_code'\u001B[0m\u001B[0;34m]\u001B[0m\u001B[0;34m)\u001B[0m\u001B[0;34m.\u001B[0m\u001B[0mmean\u001B[0m\u001B[0;34m(\u001B[0m\u001B[0;34m)\u001B[0m\u001B[0;34m)\u001B[0m\u001B[0;34m\u001B[0m\u001B[0;34m\u001B[0m\u001B[0m\n\u001B[1;32m    271\u001B[0m         \u001B[0mx\u001B[0m \u001B[0;34m=\u001B[0m \u001B[0mx\u001B[0m\u001B[0;34m.\u001B[0m\u001B[0mrename\u001B[0m\u001B[0;34m(\u001B[0m\u001B[0mcolumns\u001B[0m\u001B[0;34m=\u001B[0m\u001B[0;34m{\u001B[0m\u001B[0mk\u001B[0m\u001B[0;34m:\u001B[0m \u001B[0;34mf'{year}.{month}.{k}'\u001B[0m \u001B[0;32mfor\u001B[0m \u001B[0mk\u001B[0m \u001B[0;32min\u001B[0m \u001B[0mchange_by_date\u001B[0m\u001B[0;34m}\u001B[0m\u001B[0;34m)\u001B[0m\u001B[0;34m\u001B[0m\u001B[0;34m\u001B[0m\u001B[0m\n",
      "\u001B[0;32m/media/gpu/easystore/covid_mobility_results/python_code/covid_constants_and_util.py\u001B[0m in \u001B[0;36mload_csv_possibly_with_dask\u001B[0;34m(filenames, use_dask, compression, blocksize, compute_with_dask, **kwargs)\u001B[0m\n\u001B[1;32m    415\u001B[0m     \u001B[0;32mif\u001B[0m \u001B[0muse_dask\u001B[0m\u001B[0;34m:\u001B[0m\u001B[0;34m\u001B[0m\u001B[0;34m\u001B[0m\u001B[0m\n\u001B[1;32m    416\u001B[0m         \u001B[0;32mwith\u001B[0m \u001B[0mProgressBar\u001B[0m\u001B[0;34m(\u001B[0m\u001B[0;34m)\u001B[0m\u001B[0;34m:\u001B[0m\u001B[0;34m\u001B[0m\u001B[0;34m\u001B[0m\u001B[0m\n\u001B[0;32m--> 417\u001B[0;31m             \u001B[0md\u001B[0m \u001B[0;34m=\u001B[0m \u001B[0mdd\u001B[0m\u001B[0;34m.\u001B[0m\u001B[0mread_csv\u001B[0m\u001B[0;34m(\u001B[0m\u001B[0mfilenames\u001B[0m\u001B[0;34m,\u001B[0m \u001B[0mcompression\u001B[0m\u001B[0;34m=\u001B[0m\u001B[0mcompression\u001B[0m\u001B[0;34m,\u001B[0m \u001B[0mblocksize\u001B[0m\u001B[0;34m=\u001B[0m\u001B[0mblocksize\u001B[0m\u001B[0;34m,\u001B[0m \u001B[0;34m**\u001B[0m\u001B[0mkwargs\u001B[0m\u001B[0;34m)\u001B[0m\u001B[0;34m\u001B[0m\u001B[0;34m\u001B[0m\u001B[0m\n\u001B[0m\u001B[1;32m    418\u001B[0m             \u001B[0;32mif\u001B[0m \u001B[0mcompute_with_dask\u001B[0m\u001B[0;34m:\u001B[0m\u001B[0;34m\u001B[0m\u001B[0;34m\u001B[0m\u001B[0m\n\u001B[1;32m    419\u001B[0m                 \u001B[0md\u001B[0m \u001B[0;34m=\u001B[0m \u001B[0md\u001B[0m\u001B[0;34m.\u001B[0m\u001B[0mcompute\u001B[0m\u001B[0;34m(\u001B[0m\u001B[0;34m)\u001B[0m\u001B[0;34m\u001B[0m\u001B[0;34m\u001B[0m\u001B[0m\n",
      "\u001B[0;32m/media/gpu/easystore/covid_mobility_results/python_code/safegraph_env_v3/lib/python3.7/site-packages/dask/dataframe/io/csv.py\u001B[0m in \u001B[0;36mread\u001B[0;34m(urlpath, blocksize, collection, lineterminator, compression, sample, enforce, assume_missing, storage_options, include_path_column, **kwargs)\u001B[0m\n\u001B[1;32m    576\u001B[0m             \u001B[0mstorage_options\u001B[0m\u001B[0;34m=\u001B[0m\u001B[0mstorage_options\u001B[0m\u001B[0;34m,\u001B[0m\u001B[0;34m\u001B[0m\u001B[0;34m\u001B[0m\u001B[0m\n\u001B[1;32m    577\u001B[0m             \u001B[0minclude_path_column\u001B[0m\u001B[0;34m=\u001B[0m\u001B[0minclude_path_column\u001B[0m\u001B[0;34m,\u001B[0m\u001B[0;34m\u001B[0m\u001B[0;34m\u001B[0m\u001B[0m\n\u001B[0;32m--> 578\u001B[0;31m             \u001B[0;34m**\u001B[0m\u001B[0mkwargs\u001B[0m\u001B[0;34m\u001B[0m\u001B[0;34m\u001B[0m\u001B[0m\n\u001B[0m\u001B[1;32m    579\u001B[0m         )\n\u001B[1;32m    580\u001B[0m \u001B[0;34m\u001B[0m\u001B[0m\n",
      "\u001B[0;32m/media/gpu/easystore/covid_mobility_results/python_code/safegraph_env_v3/lib/python3.7/site-packages/dask/dataframe/io/csv.py\u001B[0m in \u001B[0;36mread_pandas\u001B[0;34m(reader, urlpath, blocksize, collection, lineterminator, compression, sample, enforce, assume_missing, storage_options, include_path_column, **kwargs)\u001B[0m\n\u001B[1;32m    442\u001B[0m \u001B[0;34m\u001B[0m\u001B[0m\n\u001B[1;32m    443\u001B[0m     \u001B[0;31m# Use sample to infer dtypes and check for presense of include_path_column\u001B[0m\u001B[0;34m\u001B[0m\u001B[0;34m\u001B[0m\u001B[0;34m\u001B[0m\u001B[0m\n\u001B[0;32m--> 444\u001B[0;31m     \u001B[0mhead\u001B[0m \u001B[0;34m=\u001B[0m \u001B[0mreader\u001B[0m\u001B[0;34m(\u001B[0m\u001B[0mBytesIO\u001B[0m\u001B[0;34m(\u001B[0m\u001B[0mb_sample\u001B[0m\u001B[0;34m)\u001B[0m\u001B[0;34m,\u001B[0m \u001B[0;34m**\u001B[0m\u001B[0mkwargs\u001B[0m\u001B[0;34m)\u001B[0m\u001B[0;34m\u001B[0m\u001B[0;34m\u001B[0m\u001B[0m\n\u001B[0m\u001B[1;32m    445\u001B[0m     \u001B[0;32mif\u001B[0m \u001B[0minclude_path_column\u001B[0m \u001B[0;32mand\u001B[0m \u001B[0;34m(\u001B[0m\u001B[0minclude_path_column\u001B[0m \u001B[0;32min\u001B[0m \u001B[0mhead\u001B[0m\u001B[0;34m.\u001B[0m\u001B[0mcolumns\u001B[0m\u001B[0;34m)\u001B[0m\u001B[0;34m:\u001B[0m\u001B[0;34m\u001B[0m\u001B[0;34m\u001B[0m\u001B[0m\n\u001B[1;32m    446\u001B[0m         raise ValueError(\n",
      "\u001B[0;32m/media/gpu/easystore/covid_mobility_results/python_code/safegraph_env_v3/lib/python3.7/site-packages/pandas/io/parsers.py\u001B[0m in \u001B[0;36mparser_f\u001B[0;34m(filepath_or_buffer, sep, delimiter, header, names, index_col, usecols, squeeze, prefix, mangle_dupe_cols, dtype, engine, converters, true_values, false_values, skipinitialspace, skiprows, skipfooter, nrows, na_values, keep_default_na, na_filter, verbose, skip_blank_lines, parse_dates, infer_datetime_format, keep_date_col, date_parser, dayfirst, iterator, chunksize, compression, thousands, decimal, lineterminator, quotechar, quoting, doublequote, escapechar, comment, encoding, dialect, tupleize_cols, error_bad_lines, warn_bad_lines, delim_whitespace, low_memory, memory_map, float_precision)\u001B[0m\n\u001B[1;32m    695\u001B[0m                     skip_blank_lines=skip_blank_lines)\n\u001B[1;32m    696\u001B[0m \u001B[0;34m\u001B[0m\u001B[0m\n\u001B[0;32m--> 697\u001B[0;31m         \u001B[0;32mreturn\u001B[0m \u001B[0m_read\u001B[0m\u001B[0;34m(\u001B[0m\u001B[0mfilepath_or_buffer\u001B[0m\u001B[0;34m,\u001B[0m \u001B[0mkwds\u001B[0m\u001B[0;34m)\u001B[0m\u001B[0;34m\u001B[0m\u001B[0;34m\u001B[0m\u001B[0m\n\u001B[0m\u001B[1;32m    698\u001B[0m \u001B[0;34m\u001B[0m\u001B[0m\n\u001B[1;32m    699\u001B[0m     \u001B[0mparser_f\u001B[0m\u001B[0;34m.\u001B[0m\u001B[0m__name__\u001B[0m \u001B[0;34m=\u001B[0m \u001B[0mname\u001B[0m\u001B[0;34m\u001B[0m\u001B[0;34m\u001B[0m\u001B[0m\n",
      "\u001B[0;32m/media/gpu/easystore/covid_mobility_results/python_code/safegraph_env_v3/lib/python3.7/site-packages/pandas/io/parsers.py\u001B[0m in \u001B[0;36m_read\u001B[0;34m(filepath_or_buffer, kwds)\u001B[0m\n\u001B[1;32m    422\u001B[0m \u001B[0;34m\u001B[0m\u001B[0m\n\u001B[1;32m    423\u001B[0m     \u001B[0;31m# Create the parser.\u001B[0m\u001B[0;34m\u001B[0m\u001B[0;34m\u001B[0m\u001B[0;34m\u001B[0m\u001B[0m\n\u001B[0;32m--> 424\u001B[0;31m     \u001B[0mparser\u001B[0m \u001B[0;34m=\u001B[0m \u001B[0mTextFileReader\u001B[0m\u001B[0;34m(\u001B[0m\u001B[0mfilepath_or_buffer\u001B[0m\u001B[0;34m,\u001B[0m \u001B[0;34m**\u001B[0m\u001B[0mkwds\u001B[0m\u001B[0;34m)\u001B[0m\u001B[0;34m\u001B[0m\u001B[0;34m\u001B[0m\u001B[0m\n\u001B[0m\u001B[1;32m    425\u001B[0m \u001B[0;34m\u001B[0m\u001B[0m\n\u001B[1;32m    426\u001B[0m     \u001B[0;32mif\u001B[0m \u001B[0mchunksize\u001B[0m \u001B[0;32mor\u001B[0m \u001B[0miterator\u001B[0m\u001B[0;34m:\u001B[0m\u001B[0;34m\u001B[0m\u001B[0;34m\u001B[0m\u001B[0m\n",
      "\u001B[0;32m/media/gpu/easystore/covid_mobility_results/python_code/safegraph_env_v3/lib/python3.7/site-packages/pandas/io/parsers.py\u001B[0m in \u001B[0;36m__init__\u001B[0;34m(self, f, engine, **kwds)\u001B[0m\n\u001B[1;32m    888\u001B[0m             \u001B[0mself\u001B[0m\u001B[0;34m.\u001B[0m\u001B[0moptions\u001B[0m\u001B[0;34m[\u001B[0m\u001B[0;34m'has_index_names'\u001B[0m\u001B[0;34m]\u001B[0m \u001B[0;34m=\u001B[0m \u001B[0mkwds\u001B[0m\u001B[0;34m[\u001B[0m\u001B[0;34m'has_index_names'\u001B[0m\u001B[0;34m]\u001B[0m\u001B[0;34m\u001B[0m\u001B[0;34m\u001B[0m\u001B[0m\n\u001B[1;32m    889\u001B[0m \u001B[0;34m\u001B[0m\u001B[0m\n\u001B[0;32m--> 890\u001B[0;31m         \u001B[0mself\u001B[0m\u001B[0;34m.\u001B[0m\u001B[0m_make_engine\u001B[0m\u001B[0;34m(\u001B[0m\u001B[0mself\u001B[0m\u001B[0;34m.\u001B[0m\u001B[0mengine\u001B[0m\u001B[0;34m)\u001B[0m\u001B[0;34m\u001B[0m\u001B[0;34m\u001B[0m\u001B[0m\n\u001B[0m\u001B[1;32m    891\u001B[0m \u001B[0;34m\u001B[0m\u001B[0m\n\u001B[1;32m    892\u001B[0m     \u001B[0;32mdef\u001B[0m \u001B[0mclose\u001B[0m\u001B[0;34m(\u001B[0m\u001B[0mself\u001B[0m\u001B[0;34m)\u001B[0m\u001B[0;34m:\u001B[0m\u001B[0;34m\u001B[0m\u001B[0;34m\u001B[0m\u001B[0m\n",
      "\u001B[0;32m/media/gpu/easystore/covid_mobility_results/python_code/safegraph_env_v3/lib/python3.7/site-packages/pandas/io/parsers.py\u001B[0m in \u001B[0;36m_make_engine\u001B[0;34m(self, engine)\u001B[0m\n\u001B[1;32m   1115\u001B[0m     \u001B[0;32mdef\u001B[0m \u001B[0m_make_engine\u001B[0m\u001B[0;34m(\u001B[0m\u001B[0mself\u001B[0m\u001B[0;34m,\u001B[0m \u001B[0mengine\u001B[0m\u001B[0;34m=\u001B[0m\u001B[0;34m'c'\u001B[0m\u001B[0;34m)\u001B[0m\u001B[0;34m:\u001B[0m\u001B[0;34m\u001B[0m\u001B[0;34m\u001B[0m\u001B[0m\n\u001B[1;32m   1116\u001B[0m         \u001B[0;32mif\u001B[0m \u001B[0mengine\u001B[0m \u001B[0;34m==\u001B[0m \u001B[0;34m'c'\u001B[0m\u001B[0;34m:\u001B[0m\u001B[0;34m\u001B[0m\u001B[0;34m\u001B[0m\u001B[0m\n\u001B[0;32m-> 1117\u001B[0;31m             \u001B[0mself\u001B[0m\u001B[0;34m.\u001B[0m\u001B[0m_engine\u001B[0m \u001B[0;34m=\u001B[0m \u001B[0mCParserWrapper\u001B[0m\u001B[0;34m(\u001B[0m\u001B[0mself\u001B[0m\u001B[0;34m.\u001B[0m\u001B[0mf\u001B[0m\u001B[0;34m,\u001B[0m \u001B[0;34m**\u001B[0m\u001B[0mself\u001B[0m\u001B[0;34m.\u001B[0m\u001B[0moptions\u001B[0m\u001B[0;34m)\u001B[0m\u001B[0;34m\u001B[0m\u001B[0;34m\u001B[0m\u001B[0m\n\u001B[0m\u001B[1;32m   1118\u001B[0m         \u001B[0;32melse\u001B[0m\u001B[0;34m:\u001B[0m\u001B[0;34m\u001B[0m\u001B[0;34m\u001B[0m\u001B[0m\n\u001B[1;32m   1119\u001B[0m             \u001B[0;32mif\u001B[0m \u001B[0mengine\u001B[0m \u001B[0;34m==\u001B[0m \u001B[0;34m'python'\u001B[0m\u001B[0;34m:\u001B[0m\u001B[0;34m\u001B[0m\u001B[0;34m\u001B[0m\u001B[0m\n",
      "\u001B[0;32m/media/gpu/easystore/covid_mobility_results/python_code/safegraph_env_v3/lib/python3.7/site-packages/pandas/io/parsers.py\u001B[0m in \u001B[0;36m__init__\u001B[0;34m(self, src, **kwds)\u001B[0m\n\u001B[1;32m   1888\u001B[0m             if (self.usecols_dtype == 'string' and\n\u001B[1;32m   1889\u001B[0m                     not set(usecols).issubset(self.orig_names)):\n\u001B[0;32m-> 1890\u001B[0;31m                 \u001B[0m_validate_usecols_names\u001B[0m\u001B[0;34m(\u001B[0m\u001B[0musecols\u001B[0m\u001B[0;34m,\u001B[0m \u001B[0mself\u001B[0m\u001B[0;34m.\u001B[0m\u001B[0morig_names\u001B[0m\u001B[0;34m)\u001B[0m\u001B[0;34m\u001B[0m\u001B[0;34m\u001B[0m\u001B[0m\n\u001B[0m\u001B[1;32m   1891\u001B[0m \u001B[0;34m\u001B[0m\u001B[0m\n\u001B[1;32m   1892\u001B[0m             \u001B[0;32mif\u001B[0m \u001B[0mlen\u001B[0m\u001B[0;34m(\u001B[0m\u001B[0mself\u001B[0m\u001B[0;34m.\u001B[0m\u001B[0mnames\u001B[0m\u001B[0;34m)\u001B[0m \u001B[0;34m>\u001B[0m \u001B[0mlen\u001B[0m\u001B[0;34m(\u001B[0m\u001B[0musecols\u001B[0m\u001B[0;34m)\u001B[0m\u001B[0;34m:\u001B[0m\u001B[0;34m\u001B[0m\u001B[0;34m\u001B[0m\u001B[0m\n",
      "\u001B[0;32m/media/gpu/easystore/covid_mobility_results/python_code/safegraph_env_v3/lib/python3.7/site-packages/pandas/io/parsers.py\u001B[0m in \u001B[0;36m_validate_usecols_names\u001B[0;34m(usecols, names)\u001B[0m\n\u001B[1;32m   1230\u001B[0m         raise ValueError(\n\u001B[1;32m   1231\u001B[0m             \u001B[0;34m\"Usecols do not match columns, \"\u001B[0m\u001B[0;34m\u001B[0m\u001B[0;34m\u001B[0m\u001B[0m\n\u001B[0;32m-> 1232\u001B[0;31m             \u001B[0;34m\"columns expected but not found: {missing}\"\u001B[0m\u001B[0;34m.\u001B[0m\u001B[0mformat\u001B[0m\u001B[0;34m(\u001B[0m\u001B[0mmissing\u001B[0m\u001B[0;34m=\u001B[0m\u001B[0mmissing\u001B[0m\u001B[0;34m)\u001B[0m\u001B[0;34m\u001B[0m\u001B[0;34m\u001B[0m\u001B[0m\n\u001B[0m\u001B[1;32m   1233\u001B[0m         )\n\u001B[1;32m   1234\u001B[0m \u001B[0;34m\u001B[0m\u001B[0m\n",
      "\u001B[0;31mValueError\u001B[0m: Usecols do not match columns, columns expected but not found: ['top_category', 'longitude', 'sub_category', 'polygon_wkt', 'latitude', 'naics_code', 'polygon_class']"
     ]
    }
   ],
   "source": [
    "# read in individual dataframes for monthly and weekl data [raw SafeGraph data].\n",
    "dask.config.set(pool=ThreadPool(10))\n",
    "\n",
    "print(\"helper.ALL_WEEKLY_STRINGS:\", helper.ALL_WEEKLY_STRINGS)\n",
    "\n",
    "\n",
    "all_monthly_dfs = []\n",
    "all_weekly_dfs = []   \n",
    "\n",
    "print( glob.glob(r'/media/gpu/easystore/Safegraph/Weekly Places Patterns v2 (until 2020-06-15)/main-file/*.gz'))\n",
    "print(\"helper.ALL_WEEKLY_STRINGS:\", helper.ALL_WEEKLY_STRINGS)\n",
    "ALL_WEEKLY_STRINGS = sorted([os.path.basename(a).replace('-weekly-patterns.csv.gz', '') for a in glob.glob(r'/media/gpu/easystore/Safegraph/Weekly Places Patterns v2 (until 2020-06-15)/main-file/*.gz')])  # Huan\n",
    "\n",
    "ALL_WEEKLY_STRINGS = [x for x in ALL_WEEKLY_STRINGS if x[:4] > str(2019) ]\n",
    "\n",
    "print(\"helper.ALL_WEEKLY_STRINGS:\", helper.ALL_WEEKLY_STRINGS)\n",
    "print(\"ALL_WEEKLY_STRINGS:\", ALL_WEEKLY_STRINGS)\n",
    "# for week_string in helper.ALL_WEEKLY_STRINGS:\n",
    "# for week_string in ALL_WEEKLY_STRINGS:\n",
    "#     print(\"Process:\", week_string)\n",
    "#     all_weekly_dfs.append(helper.load_patterns_data(week_string=week_string, just_testing=JUST_TESTING))\n",
    "    \n",
    "for month, year in [\n",
    "             (1, 2019),(2, 2019),(3, 2019),(4, 2019),(5, 2019),(6, 2019),(7, 2019),(8, 2019),(9, 2019),(10, 2019),(11, 2019),(12, 2019),\n",
    "             (1, 2020),(2, 2020)][::-1]:\n",
    "    # Note ::-1: we load most recent files first so we will take their places info if it is available.\n",
    "    all_monthly_dfs.append(helper.load_patterns_data(month=month, year=year, just_testing=JUST_TESTING))\n",
    "    \n"
   ]
  },
  {
   "cell_type": "code",
   "execution_count": null,
   "metadata": {},
   "outputs": [],
   "source": [
    "# Merge monthly DFs into a single dataframe. Each row is one POI. \n",
    "base = all_monthly_dfs[0]\n",
    "core = all_monthly_dfs[1].columns.intersection(base.columns).to_list()\n",
    "for i, df in enumerate(all_monthly_dfs[1:]):\n",
    "    print(i)\n",
    "    # merge all new places into base so that core info is not nan for new sgids\n",
    "    new_places = df.loc[df.index.difference(base.index)][core]\n",
    "    base = pd.concat([base, new_places], join='outer', sort=False)\n",
    "    # can now left merge in the df because all sgids will be in base\n",
    "    cols_to_use = df.columns.difference(base.columns).to_list()\n",
    "    base =  pd.merge(base, df[cols_to_use], left_index=True, right_index=True, how='left')\n"
   ]
  },
  {
   "cell_type": "code",
   "execution_count": null,
   "metadata": {},
   "outputs": [],
   "source": [
    "# Merge in weekly dataframes. Just merge on SafeGraph ID, left merge. \n",
    "# This means that our final POI set is those that have both monthly and weekly data. \n",
    "# at the end of this cell we will have a single dataframe. \n",
    "\n",
    "for i, weekly_df in enumerate(all_weekly_dfs):\n",
    "    print(\"\\n\\n********Weekly dataframe %i/%i\" % (i + 1, len(all_weekly_dfs)))\n",
    "    assert len(base.columns.intersection(weekly_df.columns)) == 0\n",
    "    \n",
    "    ids_in_weekly_but_not_monthly = set(weekly_df.index) - set(base.index)\n",
    "    print(\"Warning: %i/%i POIs in weekly but not monthly data; dropping these\" % (len(ids_in_weekly_but_not_monthly), \n",
    "                                                                  len(df)))\n",
    "    base = pd.merge(base, weekly_df, how='left', left_index=True, right_index=True, validate='one_to_one')\n",
    "    print(\"Missing data for weekly columns\")\n",
    "    print(pd.isnull(base[weekly_df.columns]).mean())"
   ]
  },
  {
   "cell_type": "code",
   "execution_count": null,
   "metadata": {},
   "outputs": [],
   "source": [
    "# sanity check: how much do weekly visits change if we drop parent IDs. \n",
    "parent_ids = set(base['parent_safegraph_place_id'].dropna())\n",
    "first_week_of_march_cols = ['hourly_visits_2020.3.%i.%i' % (i, j) for i in range(1, 8) for j in range(24)]\n",
    "total_daily_child_visits = base.loc[~pd.isnull(base['parent_safegraph_place_id']), first_week_of_march_cols].dropna().values.sum()\n",
    "total_daily_parent_visits = base.loc[base.index.map(lambda x:x in parent_ids), first_week_of_march_cols].dropna().values.sum()\n",
    "total_daily_visits = base[first_week_of_march_cols].dropna().values.sum()\n",
    "print(\"Total daily child visits are fraction %2.3f of total visits; parent visits are %2.3f; dropping parent visits\" \n",
    "      % (total_daily_child_visits/total_daily_visits, total_daily_parent_visits/total_daily_visits))\n",
    "\n",
    "# Drop parents to avoid double-counting visits. \n",
    "base = base.loc[base.index.map(lambda x:x not in parent_ids)]"
   ]
  },
  {
   "cell_type": "code",
   "execution_count": null,
   "metadata": {
    "scrolled": true
   },
   "outputs": [],
   "source": [
    "# annotate with demographic info and save dataframe. Dataframe is saved in h5py format, separated into chunks. \n",
    "\n",
    "annotated = base.sample(frac=1) # shuffle so rows are in random order [in case we want to prototype on subset].\n",
    "annotated = helper.annotate_with_demographic_info_and_write_out_in_chunks(annotated, just_testing=JUST_TESTING)"
   ]
  },
  {
   "cell_type": "code",
   "execution_count": null,
   "metadata": {},
   "outputs": [],
   "source": [
    "# Stratify by MSA and write out outfiles.  \n",
    "just_in_msas = annotated.loc[annotated['poi_lat_lon_Metropolitan/Micropolitan Statistical Area'] == 'Metropolitan Statistical Area']\n",
    "assert pd.isnull(just_in_msas['poi_lat_lon_CBSA Title']).sum() == 0  # POIs in MSAs must have CBSA title\n",
    "print(\"%i/%i POIs are in MSAs (%i MSAs total)\" % (len(just_in_msas), \n",
    "                                                  len(annotated), \n",
    "                                                  len(set(just_in_msas['poi_lat_lon_CBSA Title']))))\n",
    "grouped_by_msa = just_in_msas.groupby('poi_lat_lon_CBSA Title')\n",
    "total_written_out = 0\n",
    "for msa_name, small_d in grouped_by_msa:\n",
    "    small_d = small_d.copy().sample(frac=1) # make sure rows in random order. \n",
    "    small_d.index = range(len(small_d))\n",
    "    name_without_spaces = re.sub('[^0-9a-zA-Z]+', '_', msa_name)\n",
    "    filename = os.path.join(helper.STRATIFIED_BY_AREA_DIR, '%s.csv' % name_without_spaces)\n",
    "    for k in ['aggregated_cbg_population_adjusted_visitor_home_cbgs', 'aggregated_visitor_home_cbgs']:\n",
    "        small_d[k] = small_d[k].map(lambda x:json.dumps(dict(x))) # cast to json so properly saved in CSV. \n",
    "    small_d.to_csv(filename)\n",
    "    print(\"Wrote out dataframe with %i POIs to %s\" % (len(small_d), '%s.csv' % name_without_spaces))\n",
    "    total_written_out += 1\n",
    "print(\"Total written out: %i\" % total_written_out)"
   ]
  }
 ],
 "metadata": {
  "kernelspec": {
   "name": "python3",
   "language": "python",
   "display_name": "Python 3"
  },
  "language_info": {
   "codemirror_mode": {
    "name": "ipython",
    "version": 3
   },
   "file_extension": ".py",
   "mimetype": "text/x-python",
   "name": "python",
   "nbconvert_exporter": "python",
   "pygments_lexer": "ipython3",
   "version": "3.7.2"
  },
  "toc": {
   "base_numbering": 1,
   "nav_menu": {},
   "number_sections": true,
   "sideBar": true,
   "skip_h1_title": false,
   "title_cell": "Table of Contents",
   "title_sidebar": "Contents",
   "toc_cell": false,
   "toc_position": {},
   "toc_section_display": true,
   "toc_window_display": false
  }
 },
 "nbformat": 4,
 "nbformat_minor": 4
}